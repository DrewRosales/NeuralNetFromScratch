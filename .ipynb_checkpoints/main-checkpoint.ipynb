{
 "cells": [
  {
   "cell_type": "code",
   "execution_count": 1,
   "metadata": {},
   "outputs": [
    {
     "ename": "ModuleNotFoundError",
     "evalue": "No module named 'nnfs'",
     "output_type": "error",
     "traceback": [
      "\u001b[1;31m---------------------------------------------------------------------------\u001b[0m",
      "\u001b[1;31mModuleNotFoundError\u001b[0m                       Traceback (most recent call last)",
      "\u001b[1;32m<ipython-input-1-50ddbdcddd20>\u001b[0m in \u001b[0;36m<module>\u001b[1;34m\u001b[0m\n\u001b[0;32m      2\u001b[0m \u001b[1;32mimport\u001b[0m \u001b[0mnumpy\u001b[0m \u001b[1;32mas\u001b[0m \u001b[0mnp\u001b[0m\u001b[1;33m\u001b[0m\u001b[1;33m\u001b[0m\u001b[0m\n\u001b[0;32m      3\u001b[0m \u001b[1;32mimport\u001b[0m \u001b[0mmatplotlib\u001b[0m \u001b[1;32mas\u001b[0m \u001b[0mplt\u001b[0m\u001b[1;33m\u001b[0m\u001b[1;33m\u001b[0m\u001b[0m\n\u001b[1;32m----> 4\u001b[1;33m \u001b[1;32mfrom\u001b[0m \u001b[0mnnfs\u001b[0m\u001b[1;33m.\u001b[0m\u001b[0mdatasets\u001b[0m \u001b[1;32mimport\u001b[0m \u001b[0mspiral_data\u001b[0m\u001b[1;33m\u001b[0m\u001b[1;33m\u001b[0m\u001b[0m\n\u001b[0m",
      "\u001b[1;31mModuleNotFoundError\u001b[0m: No module named 'nnfs'"
     ]
    }
   ],
   "source": [
    "import sys\n",
    "import numpy as np\n",
    "import matplotlib as plt\n",
    "from nnfs.datasets import spiral_data"
   ]
  },
  {
   "cell_type": "code",
   "execution_count": 2,
   "metadata": {},
   "outputs": [
    {
     "name": "stdout",
     "output_type": "stream",
     "text": [
      "Layer 1: \n",
      "\n",
      "[[-0.30415141  0.23355072  0.13534207  0.16461763  0.40354524]\n",
      " [-0.98630163 -0.91761517  0.67302688 -1.12695375 -0.21837231]\n",
      " [ 0.18298528  0.46005374  0.07762757 -0.64642907 -0.13013384]]\n",
      "---------------------------\n",
      "Layer 2: \n",
      "\n",
      "[[ 0.03767322 -0.01370767]\n",
      " [-0.34121701 -0.36643055]\n",
      " [-0.01938651  0.06324254]]\n"
     ]
    }
   ],
   "source": [
    "#Inputs\n",
    "X = np.array([[1.0, 2.0, 3.0, 2.5],\n",
    "             [2.0, 5.0, -1.0, 2.0],\n",
    "             [-1.5, 2.7, 3.3, -0.8]])\n",
    "\n",
    "#Creating hidden layers\n",
    "class Layer_Dense:\n",
    "    #Initialize using the number of inputs and neurons\n",
    "    def __init__(self, n_inputs, n_neurons):\n",
    "        #Create an array of size (n_inputs x n_neurons) that are random based on the normal distrution\n",
    "        #scaled by a tenth\n",
    "        self.w = 0.1 * np.random.randn(n_inputs, n_neurons)\n",
    "        #Create a row vector based on the number of neurons\n",
    "        self.bias = np.zeros([1, n_neurons])\n",
    "    #Method to compute the output, takes in an input matrix\n",
    "    def forward(self, inputs):\n",
    "        self.output = inputs@self.w + self.bias\n",
    "        \n",
    "class Activation_ReLU:\n",
    "    def forward(self, inputs):\n",
    "        self.output = np.maximum(0, inputs)\n",
    "        \n",
    "#Create the first hidden layer with 5 inputs and 4 neurons\n",
    "layer1 = Layer_Dense(4,5)\n",
    "\n",
    "#Create the first hidden layer with 5 inputs and 2 neurons\n",
    "layer2 = Layer_Dense(5,2)\n",
    "\n",
    "layer1.forward(X)\n",
    "print(\"Layer 1: \\n\")\n",
    "print(layer1.output)\n",
    "\n",
    "print(\"---------------------------\")\n",
    "print(\"Layer 2: \\n\")\n",
    "layer2.forward(layer1.output)\n",
    "print(layer2.output)"
   ]
  },
  {
   "cell_type": "code",
   "execution_count": null,
   "metadata": {},
   "outputs": [],
   "source": []
  }
 ],
 "metadata": {
  "kernelspec": {
   "display_name": "Python 3",
   "language": "python",
   "name": "python3"
  },
  "language_info": {
   "codemirror_mode": {
    "name": "ipython",
    "version": 3
   },
   "file_extension": ".py",
   "mimetype": "text/x-python",
   "name": "python",
   "nbconvert_exporter": "python",
   "pygments_lexer": "ipython3",
   "version": "3.7.4"
  }
 },
 "nbformat": 4,
 "nbformat_minor": 4
}
