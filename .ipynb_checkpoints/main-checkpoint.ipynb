{
 "cells": [
  {
   "cell_type": "code",
   "execution_count": 1,
   "metadata": {},
   "outputs": [],
   "source": [
    "import sys\n",
    "import numpy as np\n",
    "import matplotlib as plt"
   ]
  },
  {
   "cell_type": "code",
   "execution_count": 46,
   "metadata": {},
   "outputs": [
    {
     "name": "stdout",
     "output_type": "stream",
     "text": [
      "[[ 0.5031  -1.04185 -2.03875]\n",
      " [ 0.2434  -2.7332  -5.7633 ]\n",
      " [-0.99314  1.41254 -0.35655]]\n"
     ]
    }
   ],
   "source": [
    "#Creation of a Neuron\n",
    "inputs = np.array([[1.0, 2.0, 3.0, 2.5],\n",
    "                  [2.0, 5.0, -1.0, 2.0],\n",
    "                  [-1.5, 2.7, 3.3, -0.8]])\n",
    "w = np.array([[0.2, 0.8, -0.5, 1.0],\n",
    "             [0.5, -0.91, 0.26, -0.5],\n",
    "             [-0.26, -0.27, 0.17, 0.87]])\n",
    "b = np.array([2.0, 3.0, 0.5])\n",
    "\n",
    "#array with the output of the first layer\n",
    "output = inputs@w.T + b\n",
    "\n",
    "#weights and biases corresponding to the next layer\n",
    "w1 = np.array([[0.1, -0.14, 0.5],\n",
    "               [-0.5, 0.12, -0.33],\n",
    "               [-0.44, 0.73, -0.13]])\n",
    "\n",
    "b1 = np.array([-1, 2, -0.5])\n",
    "\n",
    "output1 = output@w1.T +b1\n",
    "\n",
    "print(output1)"
   ]
  },
  {
   "cell_type": "code",
   "execution_count": null,
   "metadata": {},
   "outputs": [],
   "source": []
  }
 ],
 "metadata": {
  "kernelspec": {
   "display_name": "Python 3",
   "language": "python",
   "name": "python3"
  },
  "language_info": {
   "codemirror_mode": {
    "name": "ipython",
    "version": 3
   },
   "file_extension": ".py",
   "mimetype": "text/x-python",
   "name": "python",
   "nbconvert_exporter": "python",
   "pygments_lexer": "ipython3",
   "version": "3.7.4"
  }
 },
 "nbformat": 4,
 "nbformat_minor": 4
}
