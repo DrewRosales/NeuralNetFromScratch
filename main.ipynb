{
 "cells": [
  {
   "cell_type": "code",
   "execution_count": 1,
   "metadata": {},
   "outputs": [],
   "source": [
    "import sys\n",
    "import numpy as np\n",
    "import matplotlib as plt"
   ]
  },
  {
   "cell_type": "code",
   "execution_count": 61,
   "metadata": {},
   "outputs": [
    {
     "name": "stdout",
     "output_type": "stream",
     "text": [
      "Layer 1: \n",
      "\n",
      "[[ 0.0683875   0.55235072  0.31697624  0.1703925  -0.62046403]\n",
      " [ 0.48320411  0.86106744  0.72535015  1.2629097  -0.01888736]\n",
      " [ 0.06367211  0.02129266  0.82709157 -0.55830642 -0.6831859 ]]\n",
      "---------------------------\n",
      "Layer 2: \n",
      "\n",
      "[[ 0.01954635 -0.03031127]\n",
      " [-0.14431958 -0.06097116]\n",
      " [-0.08686092  0.07381831]]\n"
     ]
    }
   ],
   "source": [
    "#Inputs\n",
    "X = np.array([[1.0, 2.0, 3.0, 2.5],\n",
    "             [2.0, 5.0, -1.0, 2.0],\n",
    "             [-1.5, 2.7, 3.3, -0.8]])\n",
    "\n",
    "#Creating hidden layers\n",
    "class Layer_Dense:\n",
    "    #Initialize using the number of inputs and neurons\n",
    "    def __init__(self, n_inputs, n_neurons):\n",
    "        #Create an array of size (n_inputs x n_neurons) that are random based on the normal distrution\n",
    "        #scaled by a tenth\n",
    "        self.w = 0.1 * np.random.randn(n_inputs, n_neurons)\n",
    "        #Create a row vector based on the number of neurons\n",
    "        self.bias = np.zeros([1, n_neurons])\n",
    "    #Method to compute the output, takes in an input matrix\n",
    "    def forward(self, inputs):\n",
    "        self.output = inputs@self.w + self.bias\n",
    "#Create the first hidden layer with 5 inputs and 4 neurons\n",
    "layer1 = Layer_Dense(4,5)\n",
    "layer2 = Layer_Dense(5,2)\n",
    "\n",
    "layer1.forward(X)\n",
    "print(\"Layer 1: \\n\")\n",
    "print(layer1.output)\n",
    "\n",
    "print(\"---------------------------\")\n",
    "print(\"Layer 2: \\n\")\n",
    "layer2.forward(layer1.output)\n",
    "print(layer2.output)"
   ]
  },
  {
   "cell_type": "code",
   "execution_count": null,
   "metadata": {},
   "outputs": [],
   "source": []
  }
 ],
 "metadata": {
  "kernelspec": {
   "display_name": "Python 3",
   "language": "python",
   "name": "python3"
  },
  "language_info": {
   "codemirror_mode": {
    "name": "ipython",
    "version": 3
   },
   "file_extension": ".py",
   "mimetype": "text/x-python",
   "name": "python",
   "nbconvert_exporter": "python",
   "pygments_lexer": "ipython3",
   "version": "3.7.4"
  }
 },
 "nbformat": 4,
 "nbformat_minor": 4
}
