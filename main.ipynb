{
 "cells": [
  {
   "cell_type": "code",
   "execution_count": 2,
   "metadata": {},
   "outputs": [],
   "source": [
    "import sys\n",
    "import numpy as np\n",
    "import matplotlib as plt\n",
    "from nnfs.datasets import spiral_data"
   ]
  },
  {
   "cell_type": "code",
   "execution_count": 9,
   "metadata": {},
   "outputs": [
    {
     "name": "stdout",
     "output_type": "stream",
     "text": [
      "Layer 1: \n",
      "\n",
      "Layer 1: \n",
      "\n",
      "[[0.         0.         0.         0.         0.        ]\n",
      " [0.00067024 0.         0.00105618 0.         0.00048784]\n",
      " [0.00136941 0.         0.         0.         0.00041347]\n",
      " ...\n",
      " [0.00958721 0.0666327  0.         0.04579309 0.        ]\n",
      " [0.         0.08628639 0.         0.11575892 0.        ]\n",
      " [0.         0.0890511  0.         0.11381296 0.        ]]\n",
      "---------------------------\n"
     ]
    }
   ],
   "source": [
    "#Inputs\n",
    "X = np.array([[1.0, 2.0, 3.0, 2.5],\n",
    "             [2.0, 5.0, -1.0, 2.0],\n",
    "             [-1.5, 2.7, 3.3, -0.8]])\n",
    "\n",
    "X, y = spiral_data(100, 3)\n",
    "\n",
    "#Creating hidden layers\n",
    "class Layer_Dense:\n",
    "    #Initialize using the number of inputs and neurons\n",
    "    def __init__(self, n_inputs, n_neurons):\n",
    "        #Create an array of size (n_inputs x n_neurons) that are random based on the normal distrution\n",
    "        #scaled by a tenth\n",
    "        self.w = 0.1 * np.random.randn(n_inputs, n_neurons)\n",
    "        #Create a row vector based on the number of neurons\n",
    "        self.bias = np.zeros([1, n_neurons])\n",
    "    #Method to compute the output, takes in an input matrix\n",
    "    def forward(self, inputs):\n",
    "        self.output = inputs@self.w + self.bias\n",
    "        \n",
    "#Implementation of ReLU function        \n",
    "class Activation_ReLU:\n",
    "    def forward(self, inputs):\n",
    "        self.output = np.maximum(0, inputs)\n",
    "        \n",
    "#Create the first hidden layer with 5 inputs and 4 neurons\n",
    "layer1 = Layer_Dense(2,5)\n",
    "activation1 = Activation_ReLU()\n",
    "\n",
    "layer1.forward(X)\n",
    "print(\"Layer 1: \\n\")\n",
    "activation1.forward(layer1.output)\n",
    "print(\"Layer 1: \\n\")\n",
    "print(activation1.output)\n",
    "\n",
    "print(\"---------------------------\")"
   ]
  },
  {
   "cell_type": "code",
   "execution_count": null,
   "metadata": {},
   "outputs": [],
   "source": []
  }
 ],
 "metadata": {
  "kernelspec": {
   "display_name": "Python 3",
   "language": "python",
   "name": "python3"
  },
  "language_info": {
   "codemirror_mode": {
    "name": "ipython",
    "version": 3
   },
   "file_extension": ".py",
   "mimetype": "text/x-python",
   "name": "python",
   "nbconvert_exporter": "python",
   "pygments_lexer": "ipython3",
   "version": "3.7.4"
  }
 },
 "nbformat": 4,
 "nbformat_minor": 4
}
